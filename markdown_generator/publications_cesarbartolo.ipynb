{
 "cells": [
  {
   "cell_type": "markdown",
   "metadata": {},
   "source": [
    "# Publications markdown generator for academicpages\n",
    "\n",
    "Takes a TSV of publications with metadata and converts them for use with [academicpages.github.io](academicpages.github.io). This is an interactive Jupyter notebook ([see more info here](http://jupyter-notebook-beginner-guide.readthedocs.io/en/latest/what_is_jupyter.html)). The core python code is also in `publications.py`. Run either from the `markdown_generator` folder after replacing `publications.tsv` with one containing your data.\n",
    "\n",
    "TODO: Make this work with BibTex and other databases of citations, rather than Stuart's non-standard TSV format and citation style.\n"
   ]
  },
  {
   "cell_type": "markdown",
   "metadata": {},
   "source": [
    "## Data format\n",
    "\n",
    "The TSV needs to have the following columns: pub_date, title, venue, excerpt, citation, site_url, and paper_url, with a header at the top. \n",
    "\n",
    "- `excerpt` and `paper_url` can be blank, but the others must have values. \n",
    "- `pub_date` must be formatted as YYYY-MM-DD.\n",
    "- `url_slug` will be the descriptive part of the .md file and the permalink URL for the page about the paper. The .md file will be `YYYY-MM-DD-[url_slug].md` and the permalink will be `https://[yourdomain]/publications/YYYY-MM-DD-[url_slug]`\n",
    "\n",
    "This is how the raw file looks (it doesn't look pretty, use a spreadsheet or other program to edit and create)."
   ]
  },
  {
   "cell_type": "code",
   "execution_count": 1,
   "metadata": {},
   "outputs": [
    {
     "name": "stdout",
     "output_type": "stream",
     "text": [
      "pub_date        title   venue   excerpt citation        url_slug        paper_url\n",
      "2009-10-01      Paper Title Number 1    Journal 1       This paper is about the number 1. The number 2 is left for future work. Your Name, You. (2009). \"Paper Title Number 1.\" <i>Journal 1</i>. 1(1). paper-title-number-1    http://academicpages.github.io/files/paper1.pdf\n",
      "2010-10-01      Paper Title Number 2    Journal 1       This paper is about the number 2. The number 3 is left for future work. Your Name, You. (2010). \"Paper Title Number 2.\" <i>Journal 1</i>. 1(2). paper-title-number-2    http://academicpages.github.io/files/paper2.pdf\n",
      "2015-10-01      Paper Title Number 3    Journal 1       This paper is about the number 3. The number 4 is left for future work. Your Name, You. (2015). \"Paper Title Number 3.\" <i>Journal 1</i>. 1(3). paper-title-number-3    http://academicpages.github.io/files/paper3.pdf\n"
     ]
    }
   ],
   "source": [
    "#!cat publications.tsv   # linux command\n",
    "!more publications.tsv"
   ]
  },
  {
   "cell_type": "markdown",
   "metadata": {},
   "source": [
    "## Import pandas\n",
    "\n",
    "We are using the very handy pandas library for dataframes."
   ]
  },
  {
   "cell_type": "code",
   "execution_count": 2,
   "metadata": {},
   "outputs": [],
   "source": [
    "import pandas as pd"
   ]
  },
  {
   "cell_type": "markdown",
   "metadata": {},
   "source": [
    "## Import TSV\n",
    "\n",
    "Pandas makes this easy with the read_csv function. We are using a TSV, so we specify the separator as a tab, or `\\t`.\n",
    "\n",
    "I found it important to put this data in a tab-separated values format, because there are a lot of commas in this kind of data and comma-separated values can get messed up. However, you can modify the import statement, as pandas also has read_excel(), read_json(), and others."
   ]
  },
  {
   "cell_type": "code",
   "execution_count": 3,
   "metadata": {},
   "outputs": [
    {
     "data": {
      "text/html": [
       "<div>\n",
       "<style scoped>\n",
       "    .dataframe tbody tr th:only-of-type {\n",
       "        vertical-align: middle;\n",
       "    }\n",
       "\n",
       "    .dataframe tbody tr th {\n",
       "        vertical-align: top;\n",
       "    }\n",
       "\n",
       "    .dataframe thead th {\n",
       "        text-align: right;\n",
       "    }\n",
       "</style>\n",
       "<table border=\"1\" class=\"dataframe\">\n",
       "  <thead>\n",
       "    <tr style=\"text-align: right;\">\n",
       "      <th></th>\n",
       "      <th>pub_date</th>\n",
       "      <th>title</th>\n",
       "      <th>venue</th>\n",
       "      <th>excerpt</th>\n",
       "      <th>citation</th>\n",
       "      <th>url_slug</th>\n",
       "      <th>paper_url</th>\n",
       "      <th>site_url</th>\n",
       "    </tr>\n",
       "  </thead>\n",
       "  <tbody>\n",
       "    <tr>\n",
       "      <th>0</th>\n",
       "      <td>2021-05-01</td>\n",
       "      <td>Single Microhole per Pixel in CMOS Image Senso...</td>\n",
       "      <td>IEEE Sensors</td>\n",
       "      <td>NaN</td>\n",
       "      <td>E. P. Devine et al., \"Single Microhole per Pix...</td>\n",
       "      <td>singlePixel</td>\n",
       "      <td>http://cesarbartolo.github.io/files/09350240_s...</td>\n",
       "      <td>https://ieeexplore.ieee.org/document/9350240</td>\n",
       "    </tr>\n",
       "    <tr>\n",
       "      <th>1</th>\n",
       "      <td>2019-09-05</td>\n",
       "      <td>Dramatically Enhanced Efficiency in Ultra-Fast...</td>\n",
       "      <td>IEEE Photonics Technology Letters</td>\n",
       "      <td>NaN</td>\n",
       "      <td>H. Cansizoglu et al., \"Dramatically Enhanced E...</td>\n",
       "      <td>enhacend-msm</td>\n",
       "      <td>http://cesarbartolo.github.io/files/dramatical...</td>\n",
       "      <td>https://ieeexplore.ieee.org/abstract/document/...</td>\n",
       "    </tr>\n",
       "    <tr>\n",
       "      <th>2</th>\n",
       "      <td>2019-09-01</td>\n",
       "      <td>Rigorous coupled-wave analysis of absorption e...</td>\n",
       "      <td>Nanophotonics</td>\n",
       "      <td>NaN</td>\n",
       "      <td>G. Jun et al., \"Rigorous coupled-wave analysis...</td>\n",
       "      <td>rcwa-analysis-sipd</td>\n",
       "      <td>http://cesarbartolo.github.io/files/rcwa</td>\n",
       "      <td>https://www.degruyter.com/view/journals/nanoph...</td>\n",
       "    </tr>\n",
       "    <tr>\n",
       "      <th>3</th>\n",
       "      <td>2019-08-27</td>\n",
       "      <td>High-Speed High-Efficiency Photon-Trapping Bro...</td>\n",
       "      <td>Journal of Lightwave Technology</td>\n",
       "      <td>NaN</td>\n",
       "      <td>S. Ghandiparsi et al., \"High-Speed High-Effici...</td>\n",
       "      <td>photon-trapping-pd-short-reach-data-center</td>\n",
       "      <td>http://cesarbartolo.github.io/files/ligthwave_...</td>\n",
       "      <td>https://ieeexplore.ieee.org/abstract/document/...</td>\n",
       "    </tr>\n",
       "    <tr>\n",
       "      <th>4</th>\n",
       "      <td>2018-07-01</td>\n",
       "      <td>Surface-illuminated photon-trapping high-speed...</td>\n",
       "      <td>Photonics Research</td>\n",
       "      <td>NaN</td>\n",
       "      <td>H. Cansizoglu et al., \"Surface-illuminated pho...</td>\n",
       "      <td>ge-on-silicon-pd</td>\n",
       "      <td>http://cesarbartolo.github.io/files/geonsi.pdf</td>\n",
       "      <td>https://www.osapublishing.org/prj/abstract.cfm...</td>\n",
       "    </tr>\n",
       "    <tr>\n",
       "      <th>5</th>\n",
       "      <td>2017-08-16</td>\n",
       "      <td>High speed surface illuminated Si photodiode u...</td>\n",
       "      <td>ACS Photonics</td>\n",
       "      <td>NaN</td>\n",
       "      <td>Y. Gao et al., \"High Speed Surface Illuminated...</td>\n",
       "      <td>high-speed-photon-trapping-si-pd</td>\n",
       "      <td>http://cesarbartolo.github.io/files/sipd_acs.pdf</td>\n",
       "      <td>https://pubs.acs.org/doi/abs/10.1021/acsphoton...</td>\n",
       "    </tr>\n",
       "    <tr>\n",
       "      <th>6</th>\n",
       "      <td>2017-12-18</td>\n",
       "      <td>A new paradigm in high-speed and high-efficien...</td>\n",
       "      <td>IEEE Transactions on Electron Devices</td>\n",
       "      <td>NaN</td>\n",
       "      <td>H. Cansizoglu et al., \"A New Paradigm in High-...</td>\n",
       "      <td>new-paradigm-silicon-photodiodes</td>\n",
       "      <td>http://cesarbartolo.github.io/files/new_paradigm</td>\n",
       "      <td>https://ieeexplore.ieee.org/abstract/document/...</td>\n",
       "    </tr>\n",
       "  </tbody>\n",
       "</table>\n",
       "</div>"
      ],
      "text/plain": [
       "     pub_date                                              title  \\\n",
       "0  2021-05-01  Single Microhole per Pixel in CMOS Image Senso...   \n",
       "1  2019-09-05  Dramatically Enhanced Efficiency in Ultra-Fast...   \n",
       "2  2019-09-01  Rigorous coupled-wave analysis of absorption e...   \n",
       "3  2019-08-27  High-Speed High-Efficiency Photon-Trapping Bro...   \n",
       "4  2018-07-01  Surface-illuminated photon-trapping high-speed...   \n",
       "5  2017-08-16  High speed surface illuminated Si photodiode u...   \n",
       "6  2017-12-18  A new paradigm in high-speed and high-efficien...   \n",
       "\n",
       "                                   venue  excerpt  \\\n",
       "0                           IEEE Sensors      NaN   \n",
       "1      IEEE Photonics Technology Letters      NaN   \n",
       "2                          Nanophotonics      NaN   \n",
       "3        Journal of Lightwave Technology      NaN   \n",
       "4                     Photonics Research      NaN   \n",
       "5                          ACS Photonics      NaN   \n",
       "6  IEEE Transactions on Electron Devices      NaN   \n",
       "\n",
       "                                            citation  \\\n",
       "0  E. P. Devine et al., \"Single Microhole per Pix...   \n",
       "1  H. Cansizoglu et al., \"Dramatically Enhanced E...   \n",
       "2  G. Jun et al., \"Rigorous coupled-wave analysis...   \n",
       "3  S. Ghandiparsi et al., \"High-Speed High-Effici...   \n",
       "4  H. Cansizoglu et al., \"Surface-illuminated pho...   \n",
       "5  Y. Gao et al., \"High Speed Surface Illuminated...   \n",
       "6  H. Cansizoglu et al., \"A New Paradigm in High-...   \n",
       "\n",
       "                                     url_slug  \\\n",
       "0                                 singlePixel   \n",
       "1                                enhacend-msm   \n",
       "2                          rcwa-analysis-sipd   \n",
       "3  photon-trapping-pd-short-reach-data-center   \n",
       "4                            ge-on-silicon-pd   \n",
       "5            high-speed-photon-trapping-si-pd   \n",
       "6            new-paradigm-silicon-photodiodes   \n",
       "\n",
       "                                           paper_url  \\\n",
       "0  http://cesarbartolo.github.io/files/09350240_s...   \n",
       "1  http://cesarbartolo.github.io/files/dramatical...   \n",
       "2           http://cesarbartolo.github.io/files/rcwa   \n",
       "3  http://cesarbartolo.github.io/files/ligthwave_...   \n",
       "4     http://cesarbartolo.github.io/files/geonsi.pdf   \n",
       "5   http://cesarbartolo.github.io/files/sipd_acs.pdf   \n",
       "6   http://cesarbartolo.github.io/files/new_paradigm   \n",
       "\n",
       "                                            site_url  \n",
       "0       https://ieeexplore.ieee.org/document/9350240  \n",
       "1  https://ieeexplore.ieee.org/abstract/document/...  \n",
       "2  https://www.degruyter.com/view/journals/nanoph...  \n",
       "3  https://ieeexplore.ieee.org/abstract/document/...  \n",
       "4  https://www.osapublishing.org/prj/abstract.cfm...  \n",
       "5  https://pubs.acs.org/doi/abs/10.1021/acsphoton...  \n",
       "6  https://ieeexplore.ieee.org/abstract/document/...  "
      ]
     },
     "execution_count": 3,
     "metadata": {},
     "output_type": "execute_result"
    }
   ],
   "source": [
    "publications = pd.read_csv(\"publications_cesarbartolo.tsv\", sep=\"\\t\", header=0)\n",
    "publications\n"
   ]
  },
  {
   "cell_type": "code",
   "execution_count": null,
   "metadata": {},
   "outputs": [],
   "source": []
  },
  {
   "cell_type": "markdown",
   "metadata": {},
   "source": [
    "## Escape special characters\n",
    "\n",
    "YAML is very picky about how it takes a valid string, so we are replacing single and double quotes (and ampersands) with their HTML encoded equivilents. This makes them look not so readable in raw format, but they are parsed and rendered nicely."
   ]
  },
  {
   "cell_type": "code",
   "execution_count": 4,
   "metadata": {},
   "outputs": [],
   "source": [
    "html_escape_table = {\n",
    "    \"&\": \"&amp;\",\n",
    "    '\"': \"&quot;\",\n",
    "    \"'\": \"&apos;\"\n",
    "    }\n",
    "\n",
    "def html_escape(text):\n",
    "    \"\"\"Produce entities within text.\"\"\"\n",
    "    return \"\".join(html_escape_table.get(c,c) for c in text)"
   ]
  },
  {
   "cell_type": "markdown",
   "metadata": {},
   "source": [
    "## Creating the markdown files\n",
    "\n",
    "This is where the heavy lifting is done. This loops through all the rows in the TSV dataframe, then starts to concatentate a big string (```md```) that contains the markdown for each type. It does the YAML metadata first, then does the description for the individual page."
   ]
  },
  {
   "cell_type": "code",
   "execution_count": 5,
   "metadata": {},
   "outputs": [],
   "source": [
    "import os\n",
    "for row, item in publications.iterrows():\n",
    "    \n",
    "    md_filename = str(item.pub_date) + \"-\" + item.url_slug + \".md\"\n",
    "    html_filename = str(item.pub_date) + \"-\" + item.url_slug\n",
    "    year = item.pub_date[:4]\n",
    "    \n",
    "    ## YAML variables\n",
    "    \n",
    "    md = \"---\\ntitle: \\\"\"   + item.title + '\"\\n'\n",
    "    \n",
    "    md += \"\"\"collection: publications\"\"\"\n",
    "    \n",
    "    md += \"\"\"\\npermalink: /publication/\"\"\" + html_filename\n",
    "    \n",
    "    if len(str(item.excerpt)) > 5:\n",
    "        md += \"\\nexcerpt: '\" + html_escape(item.excerpt) + \"'\"\n",
    "    \n",
    "    md += \"\\ndate: \" + str(item.pub_date) \n",
    "    \n",
    "    md += \"\\nvenue: '\" + html_escape(item.venue) + \"'\"\n",
    "    \n",
    "    if len(str(item.paper_url)) > 5:\n",
    "        md += \"\\npaperurl: '\" + item.paper_url + \"'\"\n",
    "    \n",
    "    md += \"\\ncitation: '\" + html_escape(item.citation) + \"'\"\n",
    "    \n",
    "    md += \"\\n---\"\n",
    "    \n",
    "    ## Markdown description for individual page\n",
    "        \n",
    "    if len(str(item.excerpt)) > 5:\n",
    "        md += \"\\n\" + html_escape(item.excerpt) + \"\\n\"\n",
    "    \n",
    "    if len(str(item.paper_url)) > 5:\n",
    "        md += \"\\n[Download paper here](\" + item.paper_url + \")\\n\" \n",
    "        \n",
    "    md += \"\\nRecommended citation: \" + item.citation\n",
    "    \n",
    "    md_filename = os.path.basename(md_filename)\n",
    "       \n",
    "    with open(\"../_publications/\" + md_filename, 'w') as f:\n",
    "        f.write(md)"
   ]
  },
  {
   "cell_type": "markdown",
   "metadata": {},
   "source": [
    "These files are in the publications directory, one directory below where we're working from."
   ]
  },
  {
   "cell_type": "code",
   "execution_count": 6,
   "metadata": {},
   "outputs": [
    {
     "name": "stderr",
     "output_type": "stream",
     "text": [
      "'ls' is not recognized as an internal or external command,\n",
      "operable program or batch file.\n"
     ]
    }
   ],
   "source": [
    "!ls ../_publications/"
   ]
  },
  {
   "cell_type": "code",
   "execution_count": 7,
   "metadata": {
    "scrolled": true
   },
   "outputs": [
    {
     "name": "stderr",
     "output_type": "stream",
     "text": [
      "'cat' is not recognized as an internal or external command,\n",
      "operable program or batch file.\n"
     ]
    }
   ],
   "source": [
    "!cat ../_publications/2009-10-01-paper-title-number-1.md"
   ]
  },
  {
   "cell_type": "code",
   "execution_count": null,
   "metadata": {},
   "outputs": [],
   "source": []
  }
 ],
 "metadata": {
  "kernelspec": {
   "display_name": "Python 3",
   "language": "python",
   "name": "python3"
  },
  "language_info": {
   "codemirror_mode": {
    "name": "ipython",
    "version": 3
   },
   "file_extension": ".py",
   "mimetype": "text/x-python",
   "name": "python",
   "nbconvert_exporter": "python",
   "pygments_lexer": "ipython3",
   "version": "3.8.5"
  }
 },
 "nbformat": 4,
 "nbformat_minor": 1
}
